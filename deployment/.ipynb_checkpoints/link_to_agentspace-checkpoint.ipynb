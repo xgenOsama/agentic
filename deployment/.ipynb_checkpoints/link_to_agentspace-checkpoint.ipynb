{
 "cells": [
  {
   "cell_type": "code",
   "execution_count": null,
   "id": "b55cf2c9-54a2-43ec-b1c7-43f2f42735fe",
   "metadata": {
    "tags": []
   },
   "outputs": [],
   "source": [
    "LOCATION=eu"
   ]
  },
  {
   "cell_type": "code",
   "execution_count": null,
   "id": "475cc04e-93d4-4c09-8ecc-7330d9ee3507",
   "metadata": {
    "tags": []
   },
   "outputs": [],
   "source": [
    "PROJECT_ID=100938974863"
   ]
  },
  {
   "cell_type": "code",
   "execution_count": null,
   "id": "079e8058-6eec-421c-a5ec-73773372851e",
   "metadata": {
    "tags": []
   },
   "outputs": [],
   "source": [
    "TOKEN=$(gcloud auth print-access-token)"
   ]
  },
  {
   "cell_type": "code",
   "execution_count": null,
   "id": "f21b823e-c98e-496b-a212-578ddd298af8",
   "metadata": {},
   "outputs": [],
   "source": [
    "AGENTSPACE_ID=troublebuster_1757495908990"
   ]
  },
  {
   "cell_type": "code",
   "execution_count": null,
   "id": "4ae1d6df-de0b-4232-9c80-b0398f8d3c2a",
   "metadata": {},
   "outputs": [],
   "source": [
    "curl -X POST \"https://$LOCATION-discoveryengine.googleapis.com/v1alpha/projects/$PROJECT_ID/locations/$LOCATION/collections/default_collection/engines/$AGENTSPACE_ID/assistants/default_assistant/agents\" \\\n",
    "  -H \"Authorization: Bearer $TOKEN\" \\\n",
    "  -H \"x-goog-user-project: $PROJECT_ID\" \\\n",
    "  -H \"Content-Type: application/json\" \\\n",
    "  -d '{\n",
    "    \"displayName\": \"Network Agent\",\n",
    "    \"description\": \"Agent to answer network questions\",\n",
    "    \"adkAgentDefinition\": {\n",
    "      \"tool_settings\": {\n",
    "        \"tool_description\": \"Has tools network questions\"\n",
    "      },\n",
    "      \"provisionedReasoningEngine\": {\n",
    "        \"reasoningEngine\": \"projects/100938974863/locations/europe-west1/reasoningEngines/4009065685475917824\"\n",
    "      }\n",
    "    }\n",
    "  }'\n"
   ]
  }
 ],
 "metadata": {
  "environment": {
   "kernel": "conda-base-py",
   "name": "workbench-notebooks.m132",
   "type": "gcloud",
   "uri": "us-docker.pkg.dev/deeplearning-platform-release/gcr.io/workbench-notebooks:m132"
  },
  "kernelspec": {
   "display_name": "Python 3 (ipykernel) (Local)",
   "language": "python",
   "name": "conda-base-py"
  },
  "language_info": {
   "codemirror_mode": {
    "name": "ipython",
    "version": 3
   },
   "file_extension": ".py",
   "mimetype": "text/x-python",
   "name": "python",
   "nbconvert_exporter": "python",
   "pygments_lexer": "ipython3",
   "version": "3.10.18"
  }
 },
 "nbformat": 4,
 "nbformat_minor": 5
}
